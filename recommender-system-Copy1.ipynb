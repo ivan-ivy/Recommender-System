{
 "cells": [
  {
   "cell_type": "code",
   "execution_count": 6,
   "metadata": {},
   "outputs": [],
   "source": [
    "# import useful packages\n",
    "import pandas as pd\n",
    "import numpy as np\n",
    "import matplotlib.pyplot as plt\n",
    "\n",
    "from sklearn import preprocessing\n",
    "from sklearn.model_selection import train_test_split\n",
    "\n",
    "%matplotlib inline"
   ]
  },
  {
   "cell_type": "code",
   "execution_count": 7,
   "metadata": {},
   "outputs": [],
   "source": [
    "# load data\n",
    "data_dir = './data/'\n",
    "ratings = pd.read_csv(data_dir+\"ratings.dat\", \n",
    "                      sep = \"::\", \n",
    "                      engine='python', \n",
    "                      header=None, \n",
    "                      names=['UserID','MovieID','Rating','Timestamp'])\n",
    "users = pd.read_csv(data_dir+\"users.dat\", \n",
    "                      sep = \"::\", \n",
    "                      engine='python', \n",
    "                      header=None, \n",
    "                      names=['UserID','Gender','Age','Occupation','Zip-code'])\n",
    "movies = pd.read_csv(data_dir+\"movies.dat\", \n",
    "                      sep = \"::\", \n",
    "                      engine='python', \n",
    "                      header=None, \n",
    "                      names=['MovieID','Title','Genres'])"
   ]
  },
  {
   "cell_type": "code",
   "execution_count": 8,
   "metadata": {},
   "outputs": [],
   "source": [
    "# transform user ID \n",
    "le = preprocessing.LabelEncoder()\n",
    "le.fit(users.UserID)\n",
    "le.classes_\n",
    "users.UserID = le.transform(users.UserID) \n",
    "ratings.UserID = le.transform(ratings.UserID)\n",
    "\n",
    "# transform movie ID\n",
    "le = preprocessing.LabelEncoder()\n",
    "le.fit(movies.MovieID)\n",
    "le.classes_\n",
    "movies.MovieID = le.transform(movies.MovieID) \n",
    "ratings.MovieID = le.transform(ratings.MovieID)\n",
    "\n",
    "# split train and test set\n",
    "R_train, R_test = train_test_split(ratings, test_size=0.3, random_state=42) "
   ]
  },
  {
   "cell_type": "code",
   "execution_count": 9,
   "metadata": {},
   "outputs": [
    {
     "name": "stdout",
     "output_type": "stream",
     "text": [
      "Size of Training set: 700146.\n",
      "Size of Test set: 300063.\n",
      "Number of Users: 6040.\n",
      "Number of Movies: 3883\n"
     ]
    }
   ],
   "source": [
    "train_size = R_train.shape[0]\n",
    "test_size = R_test.shape[0]\n",
    "num_users = len(set(users.UserID.values))\n",
    "num_movies = len(set(movies.MovieID.values))\n",
    "\n",
    "\n",
    "\n",
    "print(f\"Size of Training set: {train_size}.\")\n",
    "print(f\"Size of Test set: {test_size}.\")\n",
    "print(f\"Number of Users: {num_users}.\")\n",
    "print(f\"Number of Movies: {num_movies}\")"
   ]
  },
  {
   "cell_type": "code",
   "execution_count": 16,
   "metadata": {},
   "outputs": [],
   "source": [
    "# build model\n",
    "class RecommenderSystem():\n",
    "    \n",
    "    def __init__(self, F, num_users, num_movies):\n",
    "        np.random.seed(0)\n",
    "        # initialize bias\n",
    "        self.bu = np.random.normal(loc=0.0, scale=1e-4, size=num_users)\n",
    "        self.bi = np.random.normal(loc=0.0, scale=1e-4, size=num_movies)  \n",
    "        \n",
    "        # initialize latent feature matrix\n",
    "        self.pu = np.random.normal(loc=0.0, scale=1./max(1,np.sqrt(F)), size=[num_users,F])\n",
    "        self.qi = np.random.normal(loc=0.0, scale=1./max(1,np.sqrt(F)), size=[num_movies,F])  \n",
    "        \n",
    "    def loss(self,R_new=None):\n",
    "        if R_new is None:\n",
    "            # for prediction and validation\n",
    "            users = self.R['UserID'].values\n",
    "            movies = self.R['MovieID'].values\n",
    "            ratings = self.R['Rating'].values\n",
    "        else:\n",
    "            users = R_new['UserID'].values\n",
    "            movies = R_new['MovieID'].values\n",
    "            ratings = R_new['Rating'].values\n",
    "    \n",
    "        r_pred = self.miu + self.bu[users] + self.bi[movies] +np.sum(\n",
    "            np.multiply(self.pu[users], self.qi[movies]),axis=1) \n",
    "\n",
    "        return np.mean(np.square(r_pred -ratings ))\n",
    "    \n",
    "    def train(self, R, penalty=1e-3, learning_rate=1e-3, tol=1e-5, epoch=10, batch_size= 2000, verbose=False):\n",
    "        self.R = R\n",
    "        self.miu = np.mean(self.R.Rating)\n",
    "        \n",
    "        loss0 = self.loss()\n",
    "        loss_lst = []\n",
    "        \n",
    "        for e in range(epoch):\n",
    "            for i in range(0, self.R.shape[0], batch_size):\n",
    "                users = self.R['UserID'].values[i:i+batch_size]\n",
    "                movies = self.R['MovieID'].values[i:i+batch_size]\n",
    "                ratings = self.R['Rating'].values[i:i+batch_size]\n",
    "\n",
    "                r_pred = self.miu + self.bu[self.R['UserID']] + self.bi[self.R['MovieID']]\n",
    "                pred_error = ratings-r_pred[i:i+batch_size]\n",
    "                \n",
    "                self.bu[users] += learning_rate * pred_error\n",
    "                self.bi[movies] += learning_rate * pred_error\n",
    "                self.pu[users] += learning_rate*(np.multiply(\n",
    "                    self.qi[movies], pred_error.reshape(-1,1))-penalty*self.pu[users])\n",
    "                self.qi[movies] += learning_rate*(np.multiply(\n",
    "                    self.pu[users], pred_error.reshape(-1,1))-penalty*self.qi[movies])\n",
    "            \n",
    "            loss = self.loss()\n",
    "            loss_lst.append(loss)\n",
    "            \n",
    "            if verbose:\n",
    "                print(f\"Epoch {e}: loss {loss}.\")\n",
    "            d = np.abs(loss-loss0)\n",
    "            if d<tol*loss0:\n",
    "                break\n",
    "            loss0=loss\n",
    "        print(f\">>>>> Best training error:{min(loss_lst)}<<<<<<<<<\")\n",
    "    \n",
    "    def predict(self,R_new):\n",
    "        return self.loss(R_new)"
   ]
  },
  {
   "cell_type": "code",
   "execution_count": 17,
   "metadata": {},
   "outputs": [
    {
     "name": "stdout",
     "output_type": "stream",
     "text": [
      "Epoch 0: loss 0.8514254604303138.\n",
      "Epoch 1: loss 0.8244456459475489.\n",
      "Epoch 2: loss 0.8160241268935139.\n",
      "Epoch 3: loss 0.812286214912218.\n",
      "Epoch 4: loss 0.8103230025189401.\n",
      ">>>>> Best training error:0.8103230025189401<<<<<<<<<\n"
     ]
    }
   ],
   "source": [
    "recommender = RecommenderSystem(F=0,num_users= num_users,num_movies=num_movies)\n",
    "recommender.train(R_train, epoch=5, batch_size=2000, learning_rate =0.01, verbose = True)\n",
    "# With learning rate =0.01, the optimization process converge very fast."
   ]
  },
  {
   "cell_type": "markdown",
   "metadata": {},
   "source": [
    "**performance on the validation set of the popularity model.**  "
   ]
  },
  {
   "cell_type": "code",
   "execution_count": 14,
   "metadata": {},
   "outputs": [
    {
     "data": {
      "text/plain": [
       "0.8346953288398123"
      ]
     },
     "execution_count": 14,
     "metadata": {},
     "output_type": "execute_result"
    }
   ],
   "source": [
    "recommender.predict(R_test)"
   ]
  },
  {
   "cell_type": "markdown",
   "metadata": {},
   "source": [
    "### find the range of F whose performance looks good."
   ]
  },
  {
   "cell_type": "code",
   "execution_count": 18,
   "metadata": {},
   "outputs": [
    {
     "name": "stdout",
     "output_type": "stream",
     "text": [
      ">>>>> Best training error:1.8800085110703475<<<<<<<<<\n",
      ">>>>> Best training error:1.19244831222495<<<<<<<<<\n",
      ">>>>> Best training error:1.0423469063776352<<<<<<<<<\n",
      ">>>>> Best training error:0.9776064156153619<<<<<<<<<\n",
      ">>>>> Best training error:0.9430277423085487<<<<<<<<<\n"
     ]
    }
   ],
   "source": [
    "Fs = [1,3,5,7,9]\n",
    "mse = []\n",
    "for f in Fs:\n",
    "    recommender = RecommenderSystem(F=f,num_users= num_users,num_movies=num_movies)\n",
    "    recommender.train(R_train, epoch=10, batch_size=2000, learning_rate =0.001, verbose=False)\n",
    "    mse.append(recommender.predict(R_test))"
   ]
  },
  {
   "cell_type": "code",
   "execution_count": 19,
   "metadata": {},
   "outputs": [
    {
     "data": {
      "text/plain": [
       "[<matplotlib.lines.Line2D at 0x1a3542c350>]"
      ]
     },
     "execution_count": 19,
     "metadata": {},
     "output_type": "execute_result"
    },
    {
     "data": {
      "image/png": "[encoded data removed]",
      "text/plain": [
       "<Figure size 432x288 with 1 Axes>"
      ]
     },
     "metadata": {
      "needs_background": "light"
     },
     "output_type": "display_data"
    }
   ],
   "source": [
    "# plot F vs Performance\n",
    "plt.plot(Fs,mse)"
   ]
  },
  {
   "cell_type": "markdown",
   "metadata": {},
   "source": [
    "**from the plot we can tell that**"
   ]
  },
  {
   "cell_type": "markdown",
   "metadata": {},
   "source": [
    "### select hyper-parameters \n",
    "batch size $B$  \n",
    "regularization penalty $\\lambda_p$  \n",
    "epochs $T$   \n",
    "learning rate $\\gamma$    "
   ]
  },
  {
   "cell_type": "code",
   "execution_count": 21,
   "metadata": {},
   "outputs": [
    {
     "name": "stdout",
     "output_type": "stream",
     "text": [
      "Batch size:100, regularization penalty 1e-05, epochs 5, learning rate 1e-05.\n"
     ]
    },
    {
     "ename": "KeyboardInterrupt",
     "evalue": "",
     "output_type": "error",
     "traceback": [
      "\u001b[0;31m---------------------------------------------------------------------------\u001b[0m",
      "\u001b[0;31mKeyboardInterrupt\u001b[0m                         Traceback (most recent call last)",
      "\u001b[0;32m<ipython-input-21-43af822649c1>\u001b[0m in \u001b[0;36m<module>\u001b[0;34m\u001b[0m\n\u001b[1;32m     11\u001b[0m                 \u001b[0mprint\u001b[0m\u001b[0;34m(\u001b[0m\u001b[0;34mf\"Batch size:{b}, regularization penalty {p}, epochs {t}, learning rate {l}.\"\u001b[0m\u001b[0;34m)\u001b[0m\u001b[0;34m\u001b[0m\u001b[0;34m\u001b[0m\u001b[0m\n\u001b[1;32m     12\u001b[0m                 \u001b[0mrecommender\u001b[0m \u001b[0;34m=\u001b[0m \u001b[0mRecommenderSystem\u001b[0m\u001b[0;34m(\u001b[0m\u001b[0mF\u001b[0m\u001b[0;34m=\u001b[0m\u001b[0mf\u001b[0m\u001b[0;34m,\u001b[0m\u001b[0mnum_users\u001b[0m\u001b[0;34m=\u001b[0m \u001b[0mnum_users\u001b[0m\u001b[0;34m,\u001b[0m\u001b[0mnum_movies\u001b[0m\u001b[0;34m=\u001b[0m\u001b[0mnum_movies\u001b[0m\u001b[0;34m)\u001b[0m\u001b[0;34m\u001b[0m\u001b[0;34m\u001b[0m\u001b[0m\n\u001b[0;32m---> 13\u001b[0;31m                 \u001b[0mrecommender\u001b[0m\u001b[0;34m.\u001b[0m\u001b[0mtrain\u001b[0m\u001b[0;34m(\u001b[0m\u001b[0mR_train\u001b[0m\u001b[0;34m,\u001b[0m \u001b[0mepoch\u001b[0m\u001b[0;34m=\u001b[0m\u001b[0mt\u001b[0m\u001b[0;34m,\u001b[0m \u001b[0mbatch_size\u001b[0m\u001b[0;34m=\u001b[0m\u001b[0mb\u001b[0m\u001b[0;34m,\u001b[0m \u001b[0mlearning_rate\u001b[0m \u001b[0;34m=\u001b[0m\u001b[0ml\u001b[0m\u001b[0;34m,\u001b[0m \u001b[0mpenalty\u001b[0m\u001b[0;34m=\u001b[0m \u001b[0mp\u001b[0m\u001b[0;34m)\u001b[0m\u001b[0;34m\u001b[0m\u001b[0;34m\u001b[0m\u001b[0m\n\u001b[0m\u001b[1;32m     14\u001b[0m                 \u001b[0mresult\u001b[0m\u001b[0;34m.\u001b[0m\u001b[0mappend\u001b[0m\u001b[0;34m(\u001b[0m\u001b[0;34m(\u001b[0m\u001b[0mb\u001b[0m\u001b[0;34m,\u001b[0m\u001b[0mp\u001b[0m\u001b[0;34m,\u001b[0m\u001b[0mt\u001b[0m\u001b[0;34m,\u001b[0m\u001b[0ml\u001b[0m\u001b[0;34m)\u001b[0m\u001b[0;34m)\u001b[0m\u001b[0;34m\u001b[0m\u001b[0;34m\u001b[0m\u001b[0m\n",
      "\u001b[0;32m<ipython-input-16-8b24197e7a21>\u001b[0m in \u001b[0;36mtrain\u001b[0;34m(self, R, penalty, learning_rate, tol, epoch, batch_size, verbose)\u001b[0m\n\u001b[1;32m     41\u001b[0m                 \u001b[0mratings\u001b[0m \u001b[0;34m=\u001b[0m \u001b[0mself\u001b[0m\u001b[0;34m.\u001b[0m\u001b[0mR\u001b[0m\u001b[0;34m[\u001b[0m\u001b[0;34m'Rating'\u001b[0m\u001b[0;34m]\u001b[0m\u001b[0;34m.\u001b[0m\u001b[0mvalues\u001b[0m\u001b[0;34m[\u001b[0m\u001b[0mi\u001b[0m\u001b[0;34m:\u001b[0m\u001b[0mi\u001b[0m\u001b[0;34m+\u001b[0m\u001b[0mbatch_size\u001b[0m\u001b[0;34m]\u001b[0m\u001b[0;34m\u001b[0m\u001b[0;34m\u001b[0m\u001b[0m\n\u001b[1;32m     42\u001b[0m \u001b[0;34m\u001b[0m\u001b[0m\n\u001b[0;32m---> 43\u001b[0;31m                 \u001b[0mr_pred\u001b[0m \u001b[0;34m=\u001b[0m \u001b[0mself\u001b[0m\u001b[0;34m.\u001b[0m\u001b[0mmiu\u001b[0m \u001b[0;34m+\u001b[0m \u001b[0mself\u001b[0m\u001b[0;34m.\u001b[0m\u001b[0mbu\u001b[0m\u001b[0;34m[\u001b[0m\u001b[0mself\u001b[0m\u001b[0;34m.\u001b[0m\u001b[0mR\u001b[0m\u001b[0;34m[\u001b[0m\u001b[0;34m'UserID'\u001b[0m\u001b[0;34m]\u001b[0m\u001b[0;34m]\u001b[0m \u001b[0;34m+\u001b[0m \u001b[0mself\u001b[0m\u001b[0;34m.\u001b[0m\u001b[0mbi\u001b[0m\u001b[0;34m[\u001b[0m\u001b[0mself\u001b[0m\u001b[0;34m.\u001b[0m\u001b[0mR\u001b[0m\u001b[0;34m[\u001b[0m\u001b[0;34m'MovieID'\u001b[0m\u001b[0;34m]\u001b[0m\u001b[0;34m]\u001b[0m\u001b[0;34m\u001b[0m\u001b[0;34m\u001b[0m\u001b[0m\n\u001b[0m\u001b[1;32m     44\u001b[0m                 \u001b[0mpred_error\u001b[0m \u001b[0;34m=\u001b[0m \u001b[0mratings\u001b[0m\u001b[0;34m-\u001b[0m\u001b[0mr_pred\u001b[0m\u001b[0;34m[\u001b[0m\u001b[0mi\u001b[0m\u001b[0;34m:\u001b[0m\u001b[0mi\u001b[0m\u001b[0;34m+\u001b[0m\u001b[0mbatch_size\u001b[0m\u001b[0;34m]\u001b[0m\u001b[0;34m\u001b[0m\u001b[0;34m\u001b[0m\u001b[0m\n\u001b[1;32m     45\u001b[0m \u001b[0;34m\u001b[0m\u001b[0m\n",
      "\u001b[0;31mKeyboardInterrupt\u001b[0m: "
     ]
    }
   ],
   "source": [
    "F=3\n",
    "Bs = [100, 300, 1000, 3000, 10000]\n",
    "Ps = [1e-5,1e-3,1e-1,0]\n",
    "Ts = [5, 10, 20, 40]\n",
    "Ls = [1e-5,1e-3,1e-1]\n",
    "result=[]\n",
    "for b in Bs:\n",
    "    for p in Ps:\n",
    "        for t in Ts:\n",
    "            for l in Ls:\n",
    "                print(f\"Batch size:{b}, regularization penalty {p}, epochs {t}, learning rate {l}.\")\n",
    "                recommender = RecommenderSystem(F=f,num_users= num_users,num_movies=num_movies)\n",
    "                recommender.train(R_train, epoch=t, batch_size=b, learning_rate =l, penalty= p)\n",
    "                result.append((b,p,t,l))"
   ]
  },
  {
   "cell_type": "code",
   "execution_count": null,
   "metadata": {},
   "outputs": [],
   "source": []
  }
 ],
 "metadata": {
  "kernelspec": {
   "display_name": "Python 3",
   "language": "python",
   "name": "python3"
  },
  "language_info": {
   "codemirror_mode": {
    "name": "ipython",
    "version": 3
   },
   "file_extension": ".py",
   "mimetype": "text/x-python",
   "name": "python",
   "nbconvert_exporter": "python",
   "pygments_lexer": "ipython3",
   "version": "3.7.4"
  }
 },
 "nbformat": 4,
 "nbformat_minor": 2
}
