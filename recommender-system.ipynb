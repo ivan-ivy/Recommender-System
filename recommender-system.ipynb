{
 "cells": [
  {
   "cell_type": "markdown",
   "metadata": {},
   "source": [
    "### import useful packages"
   ]
  },
  {
   "cell_type": "code",
   "execution_count": 1,
   "metadata": {},
   "outputs": [],
   "source": [
    "import pandas as pd\n",
    "import numpy as np\n",
    "import matplotlib.pyplot as plt\n",
    "\n",
    "from sklearn import preprocessing\n",
    "from sklearn.model_selection import train_test_split\n",
    "\n",
    "%matplotlib inline"
   ]
  },
  {
   "cell_type": "markdown",
   "metadata": {},
   "source": [
    "### load data"
   ]
  },
  {
   "cell_type": "code",
   "execution_count": 2,
   "metadata": {},
   "outputs": [],
   "source": [
    "data_dir = './data/'\n",
    "ratings = pd.read_csv(data_dir+\"ratings.dat\", \n",
    "                      sep = \"::\", \n",
    "                      engine='python', \n",
    "                      header=None, \n",
    "                      names=['UserID','MovieID','Rating','Timestamp'])\n",
    "users = pd.read_csv(data_dir+\"users.dat\", \n",
    "                      sep = \"::\", \n",
    "                      engine='python', \n",
    "                      header=None, \n",
    "                      names=['UserID','Gender','Age','Occupation','Zip-code'])\n",
    "movies = pd.read_csv(data_dir+\"movies.dat\", \n",
    "                      sep = \"::\", \n",
    "                      engine='python', \n",
    "                      header=None, \n",
    "                      names=['MovieID','Title','Genres'])"
   ]
  },
  {
   "cell_type": "markdown",
   "metadata": {},
   "source": [
    "### data preprocessing"
   ]
  },
  {
   "cell_type": "code",
   "execution_count": 3,
   "metadata": {},
   "outputs": [],
   "source": [
    "# transform user ID \n",
    "le = preprocessing.LabelEncoder()\n",
    "le.fit(users.UserID)\n",
    "le.classes_\n",
    "users.UserID = le.transform(users.UserID) \n",
    "ratings.UserID = le.transform(ratings.UserID)\n",
    "\n",
    "# transform movie ID\n",
    "le = preprocessing.LabelEncoder()\n",
    "le.fit(movies.MovieID)\n",
    "le.classes_\n",
    "movies.MovieID = le.transform(movies.MovieID) \n",
    "ratings.MovieID = le.transform(ratings.MovieID)\n",
    "\n",
    "# split train and test set\n",
    "R_train, R_test = train_test_split(ratings, test_size=0.2, random_state=42) \n",
    "R_train, R_val = train_test_split(R_train, test_size=0.2, random_state=42) "
   ]
  },
  {
   "cell_type": "code",
   "execution_count": 4,
   "metadata": {},
   "outputs": [
    {
     "name": "stdout",
     "output_type": "stream",
     "text": [
      "Size of Training set: 640133.\n",
      "Size of Validation set: 160034.\n",
      "Size of Test set: 200042.\n",
      "Number of Users: 6040.\n",
      "Number of Movies: 3883\n"
     ]
    }
   ],
   "source": [
    "train_size = R_train.shape[0]\n",
    "val_size = R_val.shape[0]\n",
    "test_size = R_test.shape[0]\n",
    "num_users = len(set(users.UserID.values))\n",
    "num_movies = len(set(movies.MovieID.values))\n",
    "\n",
    "\n",
    "\n",
    "print(f\"Size of Training set: {train_size}.\")\n",
    "print(f\"Size of Validation set: {val_size}.\")\n",
    "print(f\"Size of Test set: {test_size}.\")\n",
    "print(f\"Number of Users: {num_users}.\")\n",
    "print(f\"Number of Movies: {num_movies}\")"
   ]
  },
  {
   "cell_type": "code",
   "execution_count": 5,
   "metadata": {},
   "outputs": [],
   "source": [
    "# build model\n",
    "class RecommenderSystem():\n",
    "    \n",
    "    def __init__(self, F, num_users, num_movies):\n",
    "        np.random.seed(0)\n",
    "        # initialize bias\n",
    "        self.bu = np.random.normal(loc=0.0, scale=1e-4, size=num_users)\n",
    "        self.bi = np.random.normal(loc=0.0, scale=1e-4, size=num_movies)  \n",
    "        \n",
    "        # initialize latent feature matrix\n",
    "        self.pu = np.random.normal(loc=0.0, scale=1./max(1,np.sqrt(F)), size=[num_users,F])\n",
    "        self.qi = np.random.normal(loc=0.0, scale=1./max(1,np.sqrt(F)), size=[num_movies,F])  \n",
    "        \n",
    "    def loss(self,R_new=None):\n",
    "        if R_new is None:\n",
    "            # for prediction and validation\n",
    "            users = self.R['UserID'].values\n",
    "            movies = self.R['MovieID'].values\n",
    "            ratings = self.R['Rating'].values\n",
    "        else:\n",
    "            users = R_new['UserID'].values\n",
    "            movies = R_new['MovieID'].values\n",
    "            ratings = R_new['Rating'].values\n",
    "    \n",
    "        r_pred = self.miu + self.bu[users] + self.bi[movies] +np.sum(\n",
    "            np.multiply(self.pu[users], self.qi[movies]),axis=1) \n",
    "\n",
    "        return np.mean(np.square(r_pred -ratings ))\n",
    "    \n",
    "    def train(self, R, penalty=1e-3, learning_rate=1e-3, tol=1e-5, epoch=10, batch_size= 2000, verbose=False):\n",
    "        self.R = R\n",
    "        self.miu = np.mean(self.R.Rating)\n",
    "        \n",
    "        loss0 = self.loss()\n",
    "        loss_lst = []\n",
    "        \n",
    "        for e in range(epoch):\n",
    "            for i in range(0, self.R.shape[0], batch_size):\n",
    "                users = self.R['UserID'].values[i:i+batch_size]\n",
    "                movies = self.R['MovieID'].values[i:i+batch_size]\n",
    "                ratings = self.R['Rating'].values[i:i+batch_size]\n",
    "\n",
    "                r_pred = self.miu + self.bu[self.R['UserID']] + self.bi[self.R['MovieID']]\n",
    "                pred_error = ratings-r_pred[i:i+batch_size]\n",
    "                \n",
    "                self.bu[users] += learning_rate * pred_error\n",
    "                self.bi[movies] += learning_rate * pred_error\n",
    "                self.pu[users] += learning_rate*(np.multiply(\n",
    "                    self.qi[movies], pred_error.reshape(-1,1))-penalty*self.pu[users])\n",
    "                self.qi[movies] += learning_rate*(np.multiply(\n",
    "                    self.pu[users], pred_error.reshape(-1,1))-penalty*self.qi[movies])\n",
    "            \n",
    "            loss = self.loss()\n",
    "            loss_lst.append(loss)\n",
    "            \n",
    "            if verbose:\n",
    "                print(f\"Epoch {e}: loss {loss}.\")\n",
    "            d = np.abs(loss-loss0)\n",
    "            if d<tol*loss0:\n",
    "                break\n",
    "            loss0=loss\n",
    "        print(f\">>>>> Best training error:{min(loss_lst)}<<<<<<<<<\")\n",
    "    \n",
    "    def predict(self,R_new):\n",
    "        return self.loss(R_new)"
   ]
  },
  {
   "cell_type": "code",
   "execution_count": 6,
   "metadata": {},
   "outputs": [
    {
     "name": "stdout",
     "output_type": "stream",
     "text": [
      "Epoch 0: loss 0.855431396016199.\n",
      "Epoch 1: loss 0.8261004847096063.\n",
      "Epoch 2: loss 0.8168612018285448.\n",
      "Epoch 3: loss 0.8126939593133243.\n",
      "Epoch 4: loss 0.8104720809521972.\n",
      ">>>>> Best training error:0.8104720809521972<<<<<<<<<\n"
     ]
    }
   ],
   "source": [
    "recommender = RecommenderSystem(F=0,num_users= num_users,num_movies=num_movies)\n",
    "recommender.train(R_train, epoch=5, batch_size=2000, learning_rate =0.01, verbose = True)\n",
    "# With learning rate =0.01, the optimization process converge very fast."
   ]
  },
  {
   "cell_type": "markdown",
   "metadata": {},
   "source": [
    "**performance on the validation set of the popularity model.**  "
   ]
  },
  {
   "cell_type": "code",
   "execution_count": 7,
   "metadata": {},
   "outputs": [
    {
     "data": {
      "text/plain": [
       "0.8283008564957288"
      ]
     },
     "execution_count": 7,
     "metadata": {},
     "output_type": "execute_result"
    }
   ],
   "source": [
    "recommender.predict(R_val)"
   ]
  },
  {
   "cell_type": "markdown",
   "metadata": {},
   "source": [
    "### select hyper-parameters    "
   ]
  },
  {
   "cell_type": "markdown",
   "metadata": {},
   "source": [
    "### learning rate $\\gamma$ "
   ]
  },
  {
   "cell_type": "code",
   "execution_count": 9,
   "metadata": {},
   "outputs": [
    {
     "name": "stdout",
     "output_type": "stream",
     "text": [
      "Batch size:2000, regularization penalty 0.001, epochs 10, learning rate 1e-05.\n",
      ">>>>> Best training error:1.4348196539504106<<<<<<<<<\n",
      "Validation mse:1.4357794227957819\n",
      "Batch size:2000, regularization penalty 0.001, epochs 10, learning rate 0.001.\n",
      ">>>>> Best training error:1.0463448188819202<<<<<<<<<\n",
      "Validation mse:1.0820779714205764\n",
      "Batch size:2000, regularization penalty 0.001, epochs 10, learning rate 0.1.\n",
      ">>>>> Best training error:4183.909420974906<<<<<<<<<\n",
      "Validation mse:9.920701606951322e+78\n"
     ]
    }
   ],
   "source": [
    "F=5 # start with F = 5\n",
    "\n",
    "# inital parameter\n",
    "b = 2000\n",
    "t = 10\n",
    "p = 1e-3\n",
    "\n",
    "Ls = [1e-5,1e-3,1e-1]\n",
    "\n",
    "for l in Ls:\n",
    "    print(f\"Batch size:{b}, regularization penalty {p}, epochs {t}, learning rate {l}.\")\n",
    "    recommender = RecommenderSystem(F=F,num_users= num_users,num_movies=num_movies)\n",
    "    recommender.train(R_train, epoch=t, batch_size=b, learning_rate =l, penalty= p)\n",
    "    mse = recommender.predict(R_val)\n",
    "    print(f\"Validation mse:{mse}\")"
   ]
  },
  {
   "cell_type": "markdown",
   "metadata": {},
   "source": [
    "For learning rate, 0.001 seems a good choice. Large learning rate will lead to diverge and small learning rate will make it hard to find the optimal."
   ]
  },
  {
   "cell_type": "markdown",
   "metadata": {},
   "source": [
    "### batch size $B$  "
   ]
  },
  {
   "cell_type": "code",
   "execution_count": 11,
   "metadata": {},
   "outputs": [
    {
     "name": "stdout",
     "output_type": "stream",
     "text": [
      "Batch size:100, regularization penalty 0.001, epochs 10, learning rate 0.001.\n",
      ">>>>> Best training error:1.037682429232151<<<<<<<<<\n",
      "Validation mse:1.0858326250223718\n",
      "Batch size:300, regularization penalty 0.001, epochs 10, learning rate 0.001.\n",
      ">>>>> Best training error:1.0376833461624868<<<<<<<<<\n",
      "Validation mse:1.0837894039589009\n",
      "Batch size:1000, regularization penalty 0.001, epochs 10, learning rate 0.001.\n",
      ">>>>> Best training error:1.040357110071726<<<<<<<<<\n",
      "Validation mse:1.0810488284495667\n",
      "Batch size:3000, regularization penalty 0.001, epochs 10, learning rate 0.001.\n",
      ">>>>> Best training error:1.0549922283450766<<<<<<<<<\n",
      "Validation mse:1.087996640433839\n",
      "Batch size:10000, regularization penalty 0.001, epochs 10, learning rate 0.001.\n",
      ">>>>> Best training error:1.1459706979642144<<<<<<<<<\n",
      "Validation mse:1.1680882110569697\n"
     ]
    }
   ],
   "source": [
    "F=5\n",
    "\n",
    "# b = 2000\n",
    "t = 10\n",
    "p = 1e-3\n",
    "l = 1e-3\n",
    "\n",
    "Bs = [100, 300, 1000, 3000, 10000]\n",
    "\n",
    "for b in Bs:\n",
    "    print(f\"Batch size:{b}, regularization penalty {p}, epochs {t}, learning rate {l}.\")\n",
    "    recommender = RecommenderSystem(F=F,num_users= num_users,num_movies=num_movies)\n",
    "    recommender.train(R_train, epoch=t, batch_size=b, learning_rate =l, penalty= p)\n",
    "    mse = recommender.predict(R_val)\n",
    "    print(f\"Validation mse:{mse}\")"
   ]
  },
  {
   "cell_type": "markdown",
   "metadata": {},
   "source": [
    "Small batch size means more iteration in one epoch, and small size do have better training performance. Large batch size will converge faster and has a bit of regularization effect. **Thus use batch size around 1000 is ok.**"
   ]
  },
  {
   "cell_type": "markdown",
   "metadata": {},
   "source": [
    "### epochs $T$   "
   ]
  },
  {
   "cell_type": "code",
   "execution_count": 12,
   "metadata": {},
   "outputs": [
    {
     "name": "stdout",
     "output_type": "stream",
     "text": [
      "Batch size:1000, regularization penalty 0.001, epochs 5, learning rate 0.001.\n",
      ">>>>> Best training error:1.0892943674000954<<<<<<<<<\n",
      "Validation mse:1.113317841736517\n",
      "Batch size:1000, regularization penalty 0.001, epochs 10, learning rate 0.001.\n",
      ">>>>> Best training error:1.040357110071726<<<<<<<<<\n",
      "Validation mse:1.0810488284495667\n",
      "Batch size:1000, regularization penalty 0.001, epochs 20, learning rate 0.001.\n",
      ">>>>> Best training error:1.0291587747664928<<<<<<<<<\n",
      "Validation mse:1.10856328223679\n",
      "Batch size:1000, regularization penalty 0.001, epochs 40, learning rate 0.001.\n",
      ">>>>> Best training error:1.0291587747664928<<<<<<<<<\n",
      "Validation mse:1.4142479187167423\n"
     ]
    }
   ],
   "source": [
    "F=5\n",
    "\n",
    "b = 1000\n",
    "l = 1e-3\n",
    "#t = 10\n",
    "p = 1e-3\n",
    "\n",
    "Ts = [5, 10, 20, 40]\n",
    "\n",
    "for t in Ts:\n",
    "    print(f\"Batch size:{b}, regularization penalty {p}, epochs {t}, learning rate {l}.\")\n",
    "    recommender = RecommenderSystem(F=F,num_users= num_users,num_movies=num_movies)\n",
    "    recommender.train(R_train, epoch=t, batch_size=b, learning_rate =l, penalty= p)\n",
    "    mse = recommender.predict(R_val)\n",
    "    print(f\"Validation mse:{mse}\")"
   ]
  },
  {
   "cell_type": "markdown",
   "metadata": {},
   "source": [
    "As we already set the learning rate, here with around 10 epochs the cost reahces its minimum. Thus we use the midpoint 10 as our parameter."
   ]
  },
  {
   "cell_type": "markdown",
   "metadata": {},
   "source": [
    "### regularization penalty $\\lambda_p$  "
   ]
  },
  {
   "cell_type": "code",
   "execution_count": 18,
   "metadata": {},
   "outputs": [
    {
     "name": "stdout",
     "output_type": "stream",
     "text": [
      "Batch size:1000, regularization penalty 0.001, epochs 10, learning rate 0.001.\n",
      ">>>>> Best training error:1.040357110071726<<<<<<<<<\n",
      "Validation mse:1.0810488284495667\n",
      "Batch size:1000, regularization penalty 0.1, epochs 10, learning rate 0.001.\n",
      ">>>>> Best training error:0.9180107233913087<<<<<<<<<\n",
      "Validation mse:0.9483977379442783\n",
      "Batch size:1000, regularization penalty 1, epochs 10, learning rate 0.001.\n",
      ">>>>> Best training error:0.8474763939058403<<<<<<<<<\n",
      "Validation mse:0.8601990829776656\n",
      "Batch size:1000, regularization penalty 10, epochs 10, learning rate 0.001.\n",
      ">>>>> Best training error:0.8479077327570554<<<<<<<<<\n",
      "Validation mse:0.8591594686101912\n",
      "Batch size:1000, regularization penalty 100, epochs 10, learning rate 0.001.\n",
      ">>>>> Best training error:0.8479136941769835<<<<<<<<<\n",
      "Validation mse:0.8591713660755629\n",
      "Batch size:1000, regularization penalty 1000, epochs 10, learning rate 0.001.\n",
      ">>>>> Best training error:0.8479137026355027<<<<<<<<<\n",
      "Validation mse:0.8591713650582938\n"
     ]
    }
   ],
   "source": [
    "F=5\n",
    "\n",
    "b = 1000\n",
    "l = 1e-3\n",
    "t = 10\n",
    "#p = 1e-3\n",
    "\n",
    "Ps = [1e-3,1e-1, 1, 10, 100, 1000]\n",
    "\n",
    "for p in Ps:\n",
    "    print(f\"Batch size:{b}, regularization penalty {p}, epochs {t}, learning rate {l}.\")\n",
    "    recommender = RecommenderSystem(F=F,num_users= num_users,num_movies=num_movies)\n",
    "    recommender.train(R_train, epoch=t, batch_size=b, learning_rate =l, penalty= p)\n",
    "    mse = recommender.predict(R_val)\n",
    "    print(f\"Validation mse:{mse}\")"
   ]
  },
  {
   "cell_type": "markdown",
   "metadata": {},
   "source": [
    "For penalty, 10 seems the best parameter."
   ]
  },
  {
   "cell_type": "markdown",
   "metadata": {},
   "source": [
    "### find the range of F whose performance looks good."
   ]
  },
  {
   "cell_type": "code",
   "execution_count": 35,
   "metadata": {},
   "outputs": [
    {
     "name": "stdout",
     "output_type": "stream",
     "text": [
      ">>>>> Best training error:0.824932888679619<<<<<<<<<\n",
      "F is 1. Validation mse:0.8297377738208801\n",
      ">>>>> Best training error:0.7927665661608079<<<<<<<<<\n",
      "F is 2. Validation mse:0.7895461987694852\n",
      ">>>>> Best training error:0.7770962000854492<<<<<<<<<\n",
      "F is 3. Validation mse:0.773732295378022\n",
      ">>>>> Best training error:0.7692619138971927<<<<<<<<<\n",
      "F is 4. Validation mse:0.7667122971602965\n",
      ">>>>> Best training error:0.774135347151019<<<<<<<<<\n",
      "F is 5. Validation mse:0.7709247988153298\n",
      ">>>>> Best training error:0.7605781780107664<<<<<<<<<\n",
      "F is 6. Validation mse:0.7572255481489545\n",
      ">>>>> Best training error:0.7582243348093489<<<<<<<<<\n",
      "F is 7. Validation mse:0.7550847421860039\n",
      ">>>>> Best training error:0.7529111853238487<<<<<<<<<\n",
      "F is 8. Validation mse:0.7501409751075554\n",
      ">>>>> Best training error:0.7590000843124466<<<<<<<<<\n",
      "F is 9. Validation mse:0.7556432981636485\n"
     ]
    }
   ],
   "source": [
    "Fs = [k for k in range(1,10)]\n",
    "mse = []\n",
    "for f in Fs:\n",
    "    recommender = RecommenderSystem(F=f,num_users= num_users,num_movies=num_movies)\n",
    "    recommender.train(R_train, epoch=10, batch_size=1000, learning_rate=0.01, penalty=0.1, verbose=False)\n",
    "    mse_t = recommender.predict(R_val)\n",
    "    mse.append(mse_t)\n",
    "    print(f\"F is {f}. Validation mse:{mse_t}\")"
   ]
  },
  {
   "cell_type": "code",
   "execution_count": 36,
   "metadata": {},
   "outputs": [
    {
     "data": {
      "text/plain": [
       "[<matplotlib.lines.Line2D at 0x7fe4d4652a90>]"
      ]
     },
     "execution_count": 36,
     "metadata": {},
     "output_type": "execute_result"
    },
    {
     "data": {
      "image/png": "[encoded data removed]",
      "text/plain": [
       "<Figure size 432x288 with 1 Axes>"
      ]
     },
     "metadata": {
      "needs_background": "light"
     },
     "output_type": "display_data"
    }
   ],
   "source": [
    "# plot F vs Performance\n",
    "plt.plot(Fs,mse)"
   ]
  },
  {
   "cell_type": "markdown",
   "metadata": {},
   "source": [
    "Thus here, we select models with F=6, F=7, F=8."
   ]
  },
  {
   "cell_type": "code",
   "execution_count": 37,
   "metadata": {},
   "outputs": [
    {
     "name": "stdout",
     "output_type": "stream",
     "text": [
      ">>>>> Best training error:0.8077541203944635<<<<<<<<<\n"
     ]
    },
    {
     "data": {
      "text/plain": [
       "0.8350288820299465"
      ]
     },
     "execution_count": 37,
     "metadata": {},
     "output_type": "execute_result"
    }
   ],
   "source": [
    "# final test\n",
    "F = 6\n",
    "recommender = RecommenderSystem(F=F,num_users= num_users,num_movies=num_movies)\n",
    "recommender.train(R_train, epoch=10, batch_size=1000, learning_rate=0.01, penalty=10, verbose=False)\n",
    "recommender.predict(R_test)"
   ]
  },
  {
   "cell_type": "code",
   "execution_count": null,
   "metadata": {},
   "outputs": [],
   "source": []
  }
 ],
 "metadata": {
  "kernelspec": {
   "display_name": "Python 3",
   "language": "python",
   "name": "python3"
  },
  "language_info": {
   "codemirror_mode": {
    "name": "ipython",
    "version": 3
   },
   "file_extension": ".py",
   "mimetype": "text/x-python",
   "name": "python",
   "nbconvert_exporter": "python",
   "pygments_lexer": "ipython3",
   "version": "3.7.4"
  }
 },
 "nbformat": 4,
 "nbformat_minor": 2
}
